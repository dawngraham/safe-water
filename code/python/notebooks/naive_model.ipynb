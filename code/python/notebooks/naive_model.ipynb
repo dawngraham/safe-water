{
 "cells": [
  {
   "cell_type": "code",
   "execution_count": null,
   "metadata": {},
   "outputs": [],
   "source": [
    "import os\n",
    "import pandas as pd\n",
    "from IPython.display import display, HTML\n",
    "import numpy as np\n",
    "import matplotlib.pyplot as plt\n",
    "import sklearn\n",
    "## can we please make this a relative path\n",
    "DATABASE_DIR = \"/Users/dsurrao/Documents/cfb/test/swdis\"\n",
    "\n",
    "# Allow us to display all the columns in a dataframe\n",
    "pd.options.display.max_columns = None"
   ]
  },
  {
   "cell_type": "markdown",
   "metadata": {},
   "source": [
    "We start by pulling in ALL the data to prep"
   ]
  },
  {
   "cell_type": "code",
   "execution_count": null,
   "metadata": {},
   "outputs": [],
   "source": [
    "# Read in the data from the VIOLATION CSV file\n",
    "def read_in_dataframes(root_dir):\n",
    "    \"\"\"Read in the SDWIS tables into dataframes and save them in a dictionary\"\"\"\n",
    "    tables = ['ENFORCEMENT_ACTION',\n",
    "              'GEOGRAPHIC_AREA',\n",
    "              'LCR_SAMPLE',\n",
    "              'LCR_SAMPLE_RESULT',\n",
    "              'SERVICE_AREA',\n",
    "              'TREATMENT',\n",
    "              'VIOLATION',\n",
    "              'VIOLATION_ENF_ASSOC',\n",
    "              'WATER_SYSTEM',\n",
    "              'WATER_SYSTEM_FACILITY']\n",
    "    df = {}\n",
    "    for table in tables:\n",
    "        df[table] = pd.read_csv(\"{0}{1}{2}.csv\".format(root_dir, os.path.sep, table),\n",
    "                                index_col=False,\n",
    "                                error_bad_lines=False)\n",
    "    \n",
    "    return df\n",
    "\n",
    "df = read_in_dataframes(DATABASE_DIR)"
   ]
  },
  {
   "cell_type": "code",
   "execution_count": null,
   "metadata": {
    "scrolled": true
   },
   "outputs": [],
   "source": [
    "df['WATER_SYSTEM'].head()"
   ]
  },
  {
   "cell_type": "code",
   "execution_count": null,
   "metadata": {},
   "outputs": [],
   "source": [
    "water_system_df = df['WATER_SYSTEM'][['EPA_REGION', 'POPULATION_SERVED_COUNT', 'PRIMACY_TYPE', 'PRIMARY_SOURCE_CODE',\n",
    "                                  'PWS_ACTIVITY_CODE', 'PWSID', 'PWS_TYPE_CODE', 'SERVICE_CONNECTIONS_COUNT',\n",
    "                                  'STATE_CODE', 'ZIP_CODE']].copy()\n",
    "\n",
    "water_system_facility_df = df['WATER_SYSTEM_FACILITY'][['AVAILABILITY_CODE', 'FACILITY_ACTIVITY_CODE', 'FACILITY_DEACTIVATION_DATE',\n",
    "                             'FACILITY_ID', 'FACILITY_NAME', 'FACILITY_TYPE_CODE', 'FILTRATION_STATUS_CODE', \n",
    "                             'IS_SOURCE_IND', 'IS_SOURCE_TREATED_IND', 'PRIMACY_AGENCY_CODE', 'PWSID', \n",
    "                             'SELLER_PWSID', 'SELLER_PWS_NAME', 'SELLER_TREATMENT_CODE', 'STATE_FACILITY_ID', \n",
    "                             'SUBMISSION_STATUS_CODE', 'WATER_TYPE_CODE']].copy()\n",
    "\n",
    "#treatement_df = df['TREATMENT'][['COMMENTS_TEXT', 'FACILITY_ID', 'PWSID', 'TREATMENT_ID', 'TREATMENT_OBJECTIVE_Code',\n",
    "#                                     'TREATMENT_PROCESS_CODE']]\n",
    "\n",
    "violation_df = df['VIOLATION'][['COMPLIANCE_STATUS_CODE', 'COMPL_PER_BEGIN_DATE', 'COMPL_PER_END_DATE',\n",
    "                                'CONTAMINANT_CODE', 'CORRECTIVE_ACTION_ID', 'FACILITY_ID',\n",
    "                                'IS_HEALTH_BASED_IND', 'IS_MAJOR_VIOL_IND', 'LATEST_ENFORCEMENT_ID',\n",
    "                                'ORIGINATOR_CODE', 'POPULATION_SERVED_COUNT', 'POP_CAT_5_CODE',\n",
    "                                'PRIMACY_AGENCY_CODE', 'PRIMARY_SOURCE_CODE', 'PUBLIC_NOTIFICATION_TIER',\n",
    "                                'PWSID', 'RTC_DATE', 'RTC_ENFORCEMENT_ID', 'RULE_CODE', 'RULE_FAMILY_CODE',\n",
    "                                'RULE_GROUP_CODE', 'SEVERITY_IND_CNT', 'STATE_MCL', 'UNIT_OF_MEASURE',\n",
    "                                'VIOLATION_CATEGORY_CODE', 'VIOLATION_CODE', 'VIOLATION_ID', 'VIOL_MEASURE']].copy()\n",
    "\n",
    "enforcment_df = df['ENFORCEMENT_ACTION'][['ENFORCEMENT_ACTION_TYPE_CODE', 'ENFORCEMENT_COMMENT_TEXT',\n",
    "                                          'ENFORCEMENT_DATE', 'ENFORCEMENT_ID', 'ORIGINATOR_CODE','PWSID']].copy()\n",
    "\n",
    "violation_enf_assoc_df = df['VIOLATION_ENF_ASSOC'][['ENFORCEMENT_ID', 'PWSID', 'VIOLATION_ID']].copy()\n",
    "\n",
    "geographic_area_df = df['GEOGRAPHIC_AREA'][['AREA_TYPE_CODE', 'CITY_SERVED', 'COUNTY_SERVED',\n",
    "                                            'GEO_ID', 'PRIMACY_AGENCY_CODE', 'PWSID', 'STATE_SERVED',\n",
    "                                            'TRIBAL_CODE', 'ZIP_CODE_SERVED']].copy()\n",
    "\n",
    "service_area_df = df['SERVICE_AREA'][['IS_PRIMARY_SERVICE_AREA_CODE', 'PRIMACY_AGENCY_CODE',\n",
    "                                      'PWSID','SERVICE_AREA_TYPE_CODE']].copy()\n",
    "\n",
    "#new_dataframe.head()"
   ]
  },
  {
   "cell_type": "code",
   "execution_count": null,
   "metadata": {
    "scrolled": true
   },
   "outputs": [],
   "source": [
    "## merge water system facility subset to water system by pswid\n",
    "data_set = pd.merge(water_system_df, water_system_facility_df, on=['PWSID'], validate=\"1:m\")\n",
    "\n",
    "## merge treatment to aggregate data set by pwsid\n",
    "data_set = pd.merge(data_set, violation_df, on=['PWSID'])\n",
    "\n",
    "## enforcemnt action to data set by pwsid\n",
    "#data_set = pd.merge(data_set, enforcment_df, on=['PWSID'])\n",
    "\n",
    "## pull in the violation enf assoc table\n",
    "#data_set = pd.merge(data_set, violation_enf_assoc_df, on=['PWSID'])\n",
    "\n",
    "data_set.head()"
   ]
  },
  {
   "cell_type": "code",
   "execution_count": null,
   "metadata": {},
   "outputs": [],
   "source": [
    "data_set.dtypes"
   ]
  },
  {
   "cell_type": "code",
   "execution_count": null,
   "metadata": {},
   "outputs": [],
   "source": [
    "# SERVICE_CONNECTIONS_COUNT is of type object, need to convert to numeric before calling Logit\n",
    "# cols=['POPULATION_SERVED_COUNT_x', 'SERVICE_CONNECTIONS_COUNT']\n",
    "\n",
    "cols=['POPULATION_SERVED_COUNT_x']\n",
    "\n",
    "def convert_value(x): \n",
    "    if x == 'Y':\n",
    "        return 1\n",
    "    else: \n",
    "        return 0\n",
    "\n",
    "data_set['DEP'] = data_set['IS_HEALTH_BASED_IND'].apply(convert_value)\n"
   ]
  },
  {
   "cell_type": "code",
   "execution_count": null,
   "metadata": {},
   "outputs": [],
   "source": [
    "X=data_set[cols]\n",
    "y=data_set['DEP']\n",
    "\n",
    "import statsmodels.api as sm\n",
    "\n",
    "logit_model = sm.Logit(y,X)\n",
    "result = logit_model.fit()\n",
    "print(result.summary())"
   ]
  },
  {
   "cell_type": "code",
   "execution_count": null,
   "metadata": {},
   "outputs": [],
   "source": []
  }
 ],
 "metadata": {
  "kernelspec": {
   "display_name": "Python 3",
   "language": "python",
   "name": "python3"
  },
  "language_info": {
   "codemirror_mode": {
    "name": "ipython",
    "version": 3
   },
   "file_extension": ".py",
   "mimetype": "text/x-python",
   "name": "python",
   "nbconvert_exporter": "python",
   "pygments_lexer": "ipython3",
   "version": "3.6.3"
  }
 },
 "nbformat": 4,
 "nbformat_minor": 2
}
